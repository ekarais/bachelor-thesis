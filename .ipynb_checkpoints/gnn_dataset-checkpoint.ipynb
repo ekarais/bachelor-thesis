{
 "cells": [
  {
   "cell_type": "code",
   "execution_count": 30,
   "metadata": {},
   "outputs": [],
   "source": [
    "import os\n",
    "import numpy as np\n",
    "import torch\n",
    "from torch_geometric.data import InMemoryDataset, Data\n",
    "import sys"
   ]
  },
  {
   "cell_type": "code",
   "execution_count": 31,
   "metadata": {},
   "outputs": [],
   "source": [
    "class MyPGM(InMemoryDataset):\n",
    "    \n",
    "    def __init__(self, root, size, transform=None, pre_transform=None):\n",
    "        self.size = size\n",
    "        self.data_dir = \"/home/ege/Documents/bthesis/data/onehot/neutral_\" + str(self.size) + \"/\"\n",
    "        super(MyPGM, self).__init__(root, transform, pre_transform)\n",
    "        self.data, self.slices = torch.load(self.processed_paths[0])\n",
    "        assert os.path.isdir(self.data_dir)\n",
    "        \n",
    "    @property\n",
    "    def processed_file_names(self):\n",
    "        return ['data.pt']\n",
    "            \n",
    "    def process(self):\n",
    "        data_list = []\n",
    "        \n",
    "        edge_index = torch.empty(2, 56, dtype=torch.long)\n",
    "        c = 0\n",
    "        for i in range(8):\n",
    "            for j in range(8):\n",
    "                if i != j:\n",
    "                    edge_index[:,c] = torch.tensor([i,j], dtype=torch.long)\n",
    "                    c += 1\n",
    "        \n",
    "        print(edge_index)\n",
    "        \n",
    "        #Since I don't initialize data.pos, the GNN does not know the positions of the panels ==> invariance! (might also lead to poor performance)\n",
    "        for filename in os.listdir(self.data_dir):\n",
    "            RPM = np.load(self.data_dir + filename)\n",
    "            x = torch.from_numpy(RPM[:8*336].reshape(8,336))\n",
    "            y = torch.from_numpy(RPM[-29:].reshape(1,29))\n",
    "            data = Data(x=x, edge_index=edge_index, y=y)\n",
    "            data_list.append(data)\n",
    "            \n",
    "        data, slices = self.collate(data_list)\n",
    "        torch.save((data, slices), self.processed_paths[0])"
   ]
  },
  {
   "cell_type": "code",
   "execution_count": 32,
   "metadata": {},
   "outputs": [],
   "source": [
    "dataset = MyPGM(root=\"/home/ege/Documents/bthesis/data/proto/\", size=256000)"
   ]
  },
  {
   "cell_type": "code",
   "execution_count": 11,
   "metadata": {},
   "outputs": [
    {
     "name": "stdout",
     "output_type": "stream",
     "text": [
      "3.7.7 (default, May  7 2020, 21:25:33) \n",
      "[GCC 7.3.0]\n"
     ]
    }
   ],
   "source": [
    "print(sys.version)"
   ]
  },
  {
   "cell_type": "code",
   "execution_count": null,
   "metadata": {},
   "outputs": [],
   "source": []
  }
 ],
 "metadata": {
  "kernelspec": {
   "display_name": "Python 3",
   "language": "python",
   "name": "python3"
  },
  "language_info": {
   "codemirror_mode": {
    "name": "ipython",
    "version": 3
   },
   "file_extension": ".py",
   "mimetype": "text/x-python",
   "name": "python",
   "nbconvert_exporter": "python",
   "pygments_lexer": "ipython3",
   "version": "3.7.7"
  }
 },
 "nbformat": 4,
 "nbformat_minor": 4
}
